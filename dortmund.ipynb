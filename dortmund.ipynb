{
 "cells": [
  {
   "cell_type": "code",
   "execution_count": 46,
   "metadata": {},
   "outputs": [
    {
     "name": "stdout",
     "output_type": "stream",
     "text": [
      "                                     Datum           Begegnungen  \\\n",
      "0  Samstag, 12.08.2023AnstoÃ um 15:30 Uhr   TSV SCHOTT Mainz  -   \n",
      "1  Samstag, 19.08.2023AnstoÃ um 18:30 Uhr  Borussia Dortmund  -   \n",
      "2  Samstag, 26.08.2023AnstoÃ um 15:30 Uhr         VfL Bochum  -   \n",
      "3  Freitag, 01.09.2023AnstoÃ um 20:30 Uhr  Borussia Dortmund  -   \n",
      "4  Samstag, 16.09.2023AnstoÃ um 15:30 Uhr           Freiburg  -   \n",
      "\n",
      "           Begegnungen.1       Ergebnis  \n",
      "0      Borussia Dortmund  1 : 6 (1 : 3)  \n",
      "1            1. FC KÃ¶ln  1 : 0 (0 : 0)  \n",
      "2      Borussia Dortmund  1 : 1 (1 : 0)  \n",
      "3  1. FC Heidenheim 1846  2 : 2 (2 : 0)  \n",
      "4      Borussia Dortmund  2 : 4 (2 : 1)  \n"
     ]
    }
   ],
   "source": [
    "import requests\n",
    "from bs4 import BeautifulSoup\n",
    "import pandas as pd\n",
    "\n",
    "url = \"https://www.bvb.de/Spiele/Alle-Spiele\"\n",
    "soup = BeautifulSoup(requests.get(url).content, \"html.parser\")\n",
    "\n",
    "table = soup.select(\"table.statistics\")\n",
    "\n",
    "for row in soup.select(\"tr:has(td)\"):\n",
    "    tds = [td.get_text(strip=True, separator=\" \") for td in row.select(\"td\")]\n",
    "    if len(tds) > 2:\n",
    "        team1, team2 = tds[1], tds[2]\n",
    "        date = tds[0]\n",
    "        opponent1 = tds[1]\n",
    "        opponent2 = tds[2]\n",
    "        score = tds[3]\n",
    "\n",
    "df= pd.read_html(url)[0]\n",
    "print(df.head())\n",
    "\n",
    "\n"
   ]
  }
 ],
 "metadata": {
  "kernelspec": {
   "display_name": "lewagon",
   "language": "python",
   "name": "python3"
  },
  "language_info": {
   "codemirror_mode": {
    "name": "ipython",
    "version": 3
   },
   "file_extension": ".py",
   "mimetype": "text/x-python",
   "name": "python",
   "nbconvert_exporter": "python",
   "pygments_lexer": "ipython3",
   "version": "3.7.7"
  },
  "orig_nbformat": 4
 },
 "nbformat": 4,
 "nbformat_minor": 2
}
