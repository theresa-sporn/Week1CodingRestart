{
 "cells": [
  {
   "cell_type": "code",
   "execution_count": 1,
   "metadata": {},
   "outputs": [
    {
     "name": "stdout",
     "output_type": "stream",
     "text": [
      "                                     Datum           Begegnungen  \\\n",
      "0  Samstag, 12.08.2023AnstoÃ um 15:30 Uhr   TSV SCHOTT Mainz  -   \n",
      "1  Samstag, 19.08.2023AnstoÃ um 18:30 Uhr  Borussia Dortmund  -   \n",
      "2  Samstag, 26.08.2023AnstoÃ um 15:30 Uhr         VfL Bochum  -   \n",
      "3  Freitag, 01.09.2023AnstoÃ um 20:30 Uhr  Borussia Dortmund  -   \n",
      "4  Samstag, 16.09.2023AnstoÃ um 15:30 Uhr           Freiburg  -   \n",
      "\n",
      "           Begegnungen.1       Ergebnis  \n",
      "0      Borussia Dortmund  1 : 6 (1 : 3)  \n",
      "1            1. FC KÃ¶ln  1 : 0 (0 : 0)  \n",
      "2      Borussia Dortmund  1 : 1 (1 : 0)  \n",
      "3  1. FC Heidenheim 1846  2 : 2 (2 : 0)  \n",
      "4      Borussia Dortmund  2 : 4 (2 : 1)  \n"
     ]
    }
   ],
   "source": [
    "import requests\n",
    "from bs4 import BeautifulSoup\n",
    "import pandas as pd\n",
    "\n",
    "url = \"https://www.bvb.de/Spiele/Alle-Spiele\"\n",
    "soup = BeautifulSoup(requests.get(url).content, \"html.parser\")\n",
    "\n",
    "table = soup.select(\"table.statistics\")\n",
    "\n",
    "for row in soup.select(\"tr:has(td)\"):\n",
    "    tds = [td.get_text(strip=True, separator=\" \") for td in row.select(\"td\")]\n",
    "    if len(tds) > 2:\n",
    "        team1, team2 = tds[1], tds[2]\n",
    "        date = tds[0]\n",
    "        opponent1 = tds[1]\n",
    "        opponent2 = tds[2]\n",
    "        score = tds[3]\n",
    "\n",
    "df= pd.read_html(url)[0]\n",
    "print(df.head())\n",
    "\n",
    "\n"
   ]
  },
  {
   "cell_type": "code",
   "execution_count": 24,
   "metadata": {},
   "outputs": [],
   "source": [
    "df = pd.DataFrame({'Datum': [\"Samstag, 12.08.2023AnstoÃ um 15:30 Uhr\", \"Samstag, 19.08.2023AnstoÃ um 18:30 Uhr\", \"Samstag, 26.08.2023AnstoÃ um 15:30 Uhr\"], \n",
    "                   'Begegnungen': [\"TTSV SCHOTT Mainz  - Borussia Dortmund\", \"VfL Bochum  -  Borussia Dortmund\",  \"Freiburg  -  Borussia Dortmund\"]}) "
   ]
  },
  {
   "cell_type": "code",
   "execution_count": 25,
   "metadata": {},
   "outputs": [
    {
     "data": {
      "text/html": [
       "<div>\n",
       "<style scoped>\n",
       "    .dataframe tbody tr th:only-of-type {\n",
       "        vertical-align: middle;\n",
       "    }\n",
       "\n",
       "    .dataframe tbody tr th {\n",
       "        vertical-align: top;\n",
       "    }\n",
       "\n",
       "    .dataframe thead th {\n",
       "        text-align: right;\n",
       "    }\n",
       "</style>\n",
       "<table border=\"1\" class=\"dataframe\">\n",
       "  <thead>\n",
       "    <tr style=\"text-align: right;\">\n",
       "      <th></th>\n",
       "      <th>Datum</th>\n",
       "      <th>Begegnungen</th>\n",
       "    </tr>\n",
       "  </thead>\n",
       "  <tbody>\n",
       "    <tr>\n",
       "      <th>0</th>\n",
       "      <td>Samstag, 12.08.2023AnstoÃ um 15:30 Uhr</td>\n",
       "      <td>TTSV SCHOTT Mainz  - Borussia Dortmund</td>\n",
       "    </tr>\n",
       "    <tr>\n",
       "      <th>1</th>\n",
       "      <td>Samstag, 19.08.2023AnstoÃ um 18:30 Uhr</td>\n",
       "      <td>VfL Bochum  -  Borussia Dortmund</td>\n",
       "    </tr>\n",
       "    <tr>\n",
       "      <th>2</th>\n",
       "      <td>Samstag, 26.08.2023AnstoÃ um 15:30 Uhr</td>\n",
       "      <td>Freiburg  -  Borussia Dortmund</td>\n",
       "    </tr>\n",
       "  </tbody>\n",
       "</table>\n",
       "</div>"
      ],
      "text/plain": [
       "                                     Datum  \\\n",
       "0  Samstag, 12.08.2023AnstoÃ um 15:30 Uhr   \n",
       "1  Samstag, 19.08.2023AnstoÃ um 18:30 Uhr   \n",
       "2  Samstag, 26.08.2023AnstoÃ um 15:30 Uhr   \n",
       "\n",
       "                              Begegnungen  \n",
       "0  TTSV SCHOTT Mainz  - Borussia Dortmund  \n",
       "1        VfL Bochum  -  Borussia Dortmund  \n",
       "2          Freiburg  -  Borussia Dortmund  "
      ]
     },
     "execution_count": 25,
     "metadata": {},
     "output_type": "execute_result"
    }
   ],
   "source": [
    "df"
   ]
  },
  {
   "cell_type": "code",
   "execution_count": 26,
   "metadata": {},
   "outputs": [
    {
     "name": "stdout",
     "output_type": "stream",
     "text": [
      "                                     Datum  \\\n",
      "0  Samstag, 12.08.2023AnstoÃ um 15:30 Uhr   \n",
      "1  Samstag, 19.08.2023AnstoÃ um 18:30 Uhr   \n",
      "2  Samstag, 26.08.2023AnstoÃ um 15:30 Uhr   \n",
      "\n",
      "                              Begegnungen SlicedColumn  \n",
      "0  TTSV SCHOTT Mainz  - Borussia Dortmund        ag, 1  \n",
      "1        VfL Bochum  -  Borussia Dortmund        ag, 1  \n",
      "2          Freiburg  -  Borussia Dortmund        ag, 2  \n"
     ]
    }
   ],
   "source": [
    "\n",
    "\n",
    "def custom_slice(full_string, start_index, end_index):\n",
    "    return full_string[start_index:end_index]\n",
    "\n",
    "# Define the start and end indices for the slicing\n",
    "start_index = 5\n",
    "end_index = 10\n",
    "\n",
    "# Apply the custom slicing function to the 'TextColumn' and create a new column 'SlicedColumn'\n",
    "df['SlicedColumn'] = df['Datum'].apply(lambda x: custom_slice(x, start_index, end_index))\n",
    "\n",
    "# Display the DataFrame with the sliced column\n",
    "print(df)\n"
   ]
  },
  {
   "cell_type": "code",
   "execution_count": 5,
   "metadata": {},
   "outputs": [
    {
     "ename": "TypeError",
     "evalue": "expected string or bytes-like object",
     "output_type": "error",
     "traceback": [
      "\u001b[0;31m---------------------------------------------------------------------------\u001b[0m",
      "\u001b[0;31mTypeError\u001b[0m                                 Traceback (most recent call last)",
      "\u001b[0;32m<ipython-input-5-efad6f63f7ec>\u001b[0m in \u001b[0;36m<module>\u001b[0;34m\u001b[0m\n\u001b[1;32m      2\u001b[0m \u001b[0;32mfrom\u001b[0m \u001b[0mdatetime\u001b[0m \u001b[0;32mimport\u001b[0m \u001b[0mdatetime\u001b[0m\u001b[0;34m\u001b[0m\u001b[0;34m\u001b[0m\u001b[0m\n\u001b[1;32m      3\u001b[0m \u001b[0;34m\u001b[0m\u001b[0m\n\u001b[0;32m----> 4\u001b[0;31m \u001b[0mmatch\u001b[0m \u001b[0;34m=\u001b[0m \u001b[0mre\u001b[0m\u001b[0;34m.\u001b[0m\u001b[0msearch\u001b[0m\u001b[0;34m(\u001b[0m\u001b[0;34mr'\\d{4}-\\d{2}-\\d{2}'\u001b[0m\u001b[0;34m,\u001b[0m \u001b[0mdf\u001b[0m\u001b[0;34m)\u001b[0m\u001b[0;34m\u001b[0m\u001b[0;34m\u001b[0m\u001b[0m\n\u001b[0m\u001b[1;32m      5\u001b[0m \u001b[0mdate\u001b[0m \u001b[0;34m=\u001b[0m \u001b[0mdatetime\u001b[0m\u001b[0;34m.\u001b[0m\u001b[0mstrptime\u001b[0m\u001b[0;34m(\u001b[0m\u001b[0mmatch\u001b[0m\u001b[0;34m.\u001b[0m\u001b[0mgroup\u001b[0m\u001b[0;34m(\u001b[0m\u001b[0;34m)\u001b[0m\u001b[0;34m,\u001b[0m \u001b[0;34m'%Y-%m-%d'\u001b[0m\u001b[0;34m)\u001b[0m\u001b[0;34m.\u001b[0m\u001b[0mdate\u001b[0m\u001b[0;34m(\u001b[0m\u001b[0;34m)\u001b[0m\u001b[0;34m\u001b[0m\u001b[0;34m\u001b[0m\u001b[0m\n",
      "\u001b[0;32m~/.pyenv/versions/3.7.7/lib/python3.7/re.py\u001b[0m in \u001b[0;36msearch\u001b[0;34m(pattern, string, flags)\u001b[0m\n\u001b[1;32m    181\u001b[0m     \"\"\"Scan through string looking for a match to the pattern, returning\n\u001b[1;32m    182\u001b[0m     a Match object, or None if no match was found.\"\"\"\n\u001b[0;32m--> 183\u001b[0;31m     \u001b[0;32mreturn\u001b[0m \u001b[0m_compile\u001b[0m\u001b[0;34m(\u001b[0m\u001b[0mpattern\u001b[0m\u001b[0;34m,\u001b[0m \u001b[0mflags\u001b[0m\u001b[0;34m)\u001b[0m\u001b[0;34m.\u001b[0m\u001b[0msearch\u001b[0m\u001b[0;34m(\u001b[0m\u001b[0mstring\u001b[0m\u001b[0;34m)\u001b[0m\u001b[0;34m\u001b[0m\u001b[0;34m\u001b[0m\u001b[0m\n\u001b[0m\u001b[1;32m    184\u001b[0m \u001b[0;34m\u001b[0m\u001b[0m\n\u001b[1;32m    185\u001b[0m \u001b[0;32mdef\u001b[0m \u001b[0msub\u001b[0m\u001b[0;34m(\u001b[0m\u001b[0mpattern\u001b[0m\u001b[0;34m,\u001b[0m \u001b[0mrepl\u001b[0m\u001b[0;34m,\u001b[0m \u001b[0mstring\u001b[0m\u001b[0;34m,\u001b[0m \u001b[0mcount\u001b[0m\u001b[0;34m=\u001b[0m\u001b[0;36m0\u001b[0m\u001b[0;34m,\u001b[0m \u001b[0mflags\u001b[0m\u001b[0;34m=\u001b[0m\u001b[0;36m0\u001b[0m\u001b[0;34m)\u001b[0m\u001b[0;34m:\u001b[0m\u001b[0;34m\u001b[0m\u001b[0;34m\u001b[0m\u001b[0m\n",
      "\u001b[0;31mTypeError\u001b[0m: expected string or bytes-like object"
     ]
    }
   ],
   "source": [
    "import re\n",
    "from datetime import datetime\n",
    "\n",
    "match = re.search(r'\\d{4}-\\d{2}-\\d{2}', df)\n",
    "date = datetime.strptime(match.group(), '%Y-%m-%d').date()"
   ]
  }
 ],
 "metadata": {
  "kernelspec": {
   "display_name": "lewagon",
   "language": "python",
   "name": "python3"
  },
  "language_info": {
   "codemirror_mode": {
    "name": "ipython",
    "version": 3
   },
   "file_extension": ".py",
   "mimetype": "text/x-python",
   "name": "python",
   "nbconvert_exporter": "python",
   "pygments_lexer": "ipython3",
   "version": "3.7.7"
  },
  "orig_nbformat": 4
 },
 "nbformat": 4,
 "nbformat_minor": 2
}
