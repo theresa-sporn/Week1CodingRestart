{
 "cells": [
  {
   "cell_type": "code",
   "execution_count": 21,
   "metadata": {},
   "outputs": [
    {
     "name": "stdout",
     "output_type": "stream",
     "text": [
      "Opponent: Samstag, 12.08.2023Anstoß um 15:30 Uhr\n",
      "Opponent: Samstag, 19.08.2023Anstoß um 18:30 Uhr\n",
      "Opponent: Samstag, 26.08.2023Anstoß um 15:30 Uhr\n",
      "Opponent: Freitag, 01.09.2023Anstoß um 20:30 Uhr\n",
      "Opponent: Samstag, 16.09.2023Anstoß um 15:30 Uhr\n",
      "Opponent: Dienstag, 19.09.2023Anstoß um 21:00 Uhr\n",
      "Opponent: Samstag, 23.09.2023Anstoß um 15:30 Uhr\n",
      "Opponent: Freitag, 29.09.2023Anstoß um 20:30 Uhr\n",
      "Opponent: Mittwoch, 04.10.2023Anstoß um 21:00 Uhr\n",
      "Opponent: Samstag, 07.10.2023Anstoß um 15:30 Uhr\n",
      "Opponent: Freitag, 20.10.2023Anstoß um 20:30 Uhr\n",
      "Opponent: Mittwoch, 25.10.2023Anstoß um 21:00 Uhr\n",
      "Opponent: Samstag, 28.10.2023*Anstoß um 13:30 Uhr*\n",
      "Opponent: Samstag, 04.11.2023*Anstoß um 13:30 Uhr*\n",
      "Opponent: Dienstag, 07.11.2023Anstoß um 18:45 Uhr\n",
      "Opponent: Samstag, 11.11.2023*Anstoß um 13:30 Uhr*\n",
      "Opponent: Samstag, 25.11.2023*Anstoß um 13:30 Uhr*\n",
      "Opponent: Dienstag, 28.11.2023Anstoß um 21:00 Uhr\n",
      "Opponent: Samstag, 02.12.2023*Anstoß um 13:30 Uhr*\n",
      "Opponent: Samstag, 09.12.2023*Anstoß um 13:30 Uhr*\n",
      "Opponent: Mittwoch, 13.12.2023Anstoß um 21:00 Uhr\n",
      "Opponent: Samstag, 16.12.2023*Anstoß um 13:30 Uhr*\n",
      "Opponent: Mittwoch, 20.12.2023*Anstoß um 13:30 Uhr*\n",
      "Opponent: Samstag, 13.01.2024*Anstoß um 13:30 Uhr*\n",
      "Opponent: Samstag, 20.01.2024*Anstoß um 13:30 Uhr*\n",
      "Opponent: Samstag, 27.01.2024*Anstoß um 13:30 Uhr*\n",
      "Opponent: Samstag, 03.02.2024*Anstoß um 13:30 Uhr*\n",
      "Opponent: Samstag, 10.02.2024*Anstoß um 13:30 Uhr*\n",
      "Opponent: Samstag, 17.02.2024*Anstoß um 13:30 Uhr*\n",
      "Opponent: Samstag, 24.02.2024*Anstoß um 13:30 Uhr*\n",
      "Opponent: Samstag, 02.03.2024*Anstoß um 13:30 Uhr*\n",
      "Opponent: Samstag, 09.03.2024*Anstoß um 13:30 Uhr*\n",
      "Opponent: Samstag, 16.03.2024*Anstoß um 13:30 Uhr*\n",
      "Opponent: Samstag, 30.03.2024*Anstoß um 13:30 Uhr*\n",
      "Opponent: Samstag, 06.04.2024*Anstoß um 13:30 Uhr*\n",
      "Opponent: Samstag, 13.04.2024*Anstoß um 13:30 Uhr*\n",
      "Opponent: Samstag, 20.04.2024*Anstoß um 13:30 Uhr*\n",
      "Opponent: Samstag, 27.04.2024*Anstoß um 13:30 Uhr*\n",
      "Opponent: Samstag, 04.05.2024*Anstoß um 13:30 Uhr*\n",
      "Opponent: Samstag, 11.05.2024*Anstoß um 13:30 Uhr*\n",
      "Opponent: Samstag, 18.05.2024Anstoß um 15:30 Uhr\n"
     ]
    }
   ],
   "source": [
    "import requests\n",
    "from bs4 import BeautifulSoup\n",
    "\n",
    "# URL of the Borussia Dortmund \"Alle Spiele\" page\n",
    "url = \"https://www.bvb.de/Spiele/Alle-Spiele\"\n",
    "\n",
    "# Send an HTTP GET request to fetch the web page content\n",
    "response = requests.get(url)\n",
    "\n",
    "# Check if the request was successful\n",
    "if response.status_code == 200:\n",
    "    # Parse the HTML content of the page\n",
    "    soup = BeautifulSoup(response.text, \"html.parser\")\n",
    "\n",
    "    # Locate the section of the page containing game information\n",
    "    game_section = soup.find(\"table\", class_=\"statistics statistics-matchday\")\n",
    "\n",
    "    # Check if the game_section exists\n",
    "    if game_section:\n",
    "        # Loop through the game information and extract details\n",
    "        for game in game_section.find_all(\"tr\", class_=\"pointer\"):\n",
    "            #date = game.find(\"td\", class_=\"2 5\").text.strip()\n",
    "            opponent = game.find(\"img\", class_=\"opt\").text.strip()\n",
    "            #result = game.find(\"p\", class_=\"spiel-resultat\").text.strip()\n",
    "\n",
    "            #print(f\"Game: {game}\")\n",
    "            #print(f\"Date: {date}\")\n",
    "            print(f\"Opponent: {opponent}\")\n",
    "            #print(f\"Result: {result}\")\n",
    "            #print(\"-\" * 40)\n",
    "    else:\n",
    "        print(\"Game information section not found on the page.\")\n",
    "else:\n",
    "    print(f\"Failed to fetch the page. Status code: {response.status_code}\")"
   ]
  }
 ],
 "metadata": {
  "kernelspec": {
   "display_name": "lewagon",
   "language": "python",
   "name": "python3"
  },
  "language_info": {
   "codemirror_mode": {
    "name": "ipython",
    "version": 3
   },
   "file_extension": ".py",
   "mimetype": "text/x-python",
   "name": "python",
   "nbconvert_exporter": "python",
   "pygments_lexer": "ipython3",
   "version": "3.7.7"
  },
  "orig_nbformat": 4
 },
 "nbformat": 4,
 "nbformat_minor": 2
}
