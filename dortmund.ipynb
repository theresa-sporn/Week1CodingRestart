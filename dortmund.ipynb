{
 "cells": [
  {
   "cell_type": "code",
   "execution_count": 29,
   "metadata": {},
   "outputs": [
    {
     "name": "stdout",
     "output_type": "stream",
     "text": [
      "['Samstag, 12.08.2023 Anstoß um 15:30 Uhr', 'TSV SCHOTT Mainz -', 'Borussia Dortmund', '1 : 6 (1 : 3)']\n",
      "['Samstag, 19.08.2023 Anstoß um 18:30 Uhr', 'Borussia Dortmund -', '1. FC Köln', '1 : 0 (0 : 0)']\n",
      "['Samstag, 26.08.2023 Anstoß um 15:30 Uhr', 'VfL Bochum -', 'Borussia Dortmund', '1 : 1 (1 : 0)']\n",
      "['Freitag, 01.09.2023 Anstoß um 20:30 Uhr', 'Borussia Dortmund -', '1. FC Heidenheim 1846', '2 : 2 (2 : 0)']\n",
      "['Samstag, 16.09.2023 Anstoß um 15:30 Uhr', 'Freiburg -', 'Borussia Dortmund', '2 : 4 (2 : 1)']\n",
      "['Dienstag, 19.09.2023 Anstoß um 21:00 Uhr', 'Paris SG -', 'Borussia Dortmund', '2 : 0 (0 : 0)']\n",
      "['Samstag, 23.09.2023 Anstoß um 15:30 Uhr', 'Borussia Dortmund -', 'VfL Wolfsburg', '- : - (- : -)']\n",
      "['Freitag, 29.09.2023 Anstoß um 20:30 Uhr', 'Hoffenheim -', 'Borussia Dortmund', '- : - (- : -)']\n",
      "['Mittwoch, 04.10.2023 Anstoß um 21:00 Uhr', 'Borussia Dortmund -', 'Milan', '- : - (- : -)']\n",
      "['Samstag, 07.10.2023 Anstoß um 15:30 Uhr', 'Borussia Dortmund -', 'Union Berlin', '- : - (- : -)']\n",
      "['Freitag, 20.10.2023 Anstoß um 20:30 Uhr', 'Borussia Dortmund -', 'SV Werder', '- : - (- : -)']\n",
      "['Mittwoch, 25.10.2023 Anstoß um 21:00 Uhr', 'Newcastle -', 'Borussia Dortmund', '- : - (- : -)']\n",
      "['Samstag, 28.10.2023* Anstoß um 13:30 Uhr*', 'Eintracht Frankfurt -', 'Borussia Dortmund', '- : - (- : -)']\n",
      "['Samstag, 04.11.2023* Anstoß um 13:30 Uhr*', 'Borussia Dortmund -', 'Bayern München', '- : - (- : -)']\n",
      "['Dienstag, 07.11.2023 Anstoß um 18:45 Uhr', 'Borussia Dortmund -', 'Newcastle', '- : - (- : -)']\n",
      "['Samstag, 11.11.2023* Anstoß um 13:30 Uhr*', 'VfB Stuttgart -', 'Borussia Dortmund', '- : - (- : -)']\n",
      "['Samstag, 25.11.2023* Anstoß um 13:30 Uhr*', 'Borussia Dortmund -', \"Borussia M'gladbach\", '- : - (- : -)']\n",
      "['Dienstag, 28.11.2023 Anstoß um 21:00 Uhr', 'Milan -', 'Borussia Dortmund', '- : - (- : -)']\n",
      "['Samstag, 02.12.2023* Anstoß um 13:30 Uhr*', 'Bayer Leverkusen -', 'Borussia Dortmund', '- : - (- : -)']\n",
      "['Samstag, 09.12.2023* Anstoß um 13:30 Uhr*', 'Borussia Dortmund -', 'Rasenballsport Leipzig', '- : - (- : -)']\n",
      "['Mittwoch, 13.12.2023 Anstoß um 21:00 Uhr', 'Borussia Dortmund -', 'Paris SG', '- : - (- : -)']\n",
      "['Samstag, 16.12.2023* Anstoß um 13:30 Uhr*', 'FC Augsburg -', 'Borussia Dortmund', '- : - (- : -)']\n",
      "['Mittwoch, 20.12.2023* Anstoß um 13:30 Uhr*', 'Borussia Dortmund -', 'Mainz 05', '- : - (- : -)']\n",
      "['Samstag, 13.01.2024* Anstoß um 13:30 Uhr*', 'Darmstadt 98 -', 'Borussia Dortmund', '- : - (- : -)']\n",
      "['Samstag, 20.01.2024* Anstoß um 13:30 Uhr*', '1. FC Köln -', 'Borussia Dortmund', '- : - (- : -)']\n",
      "['Samstag, 27.01.2024* Anstoß um 13:30 Uhr*', 'Borussia Dortmund -', 'VfL Bochum', '- : - (- : -)']\n",
      "['Samstag, 03.02.2024* Anstoß um 13:30 Uhr*', '1. FC Heidenheim 1846 -', 'Borussia Dortmund', '- : - (- : -)']\n",
      "['Samstag, 10.02.2024* Anstoß um 13:30 Uhr*', 'Borussia Dortmund -', 'Freiburg', '- : - (- : -)']\n",
      "['Samstag, 17.02.2024* Anstoß um 13:30 Uhr*', 'VfL Wolfsburg -', 'Borussia Dortmund', '- : - (- : -)']\n",
      "['Samstag, 24.02.2024* Anstoß um 13:30 Uhr*', 'Borussia Dortmund -', 'Hoffenheim', '- : - (- : -)']\n",
      "['Samstag, 02.03.2024* Anstoß um 13:30 Uhr*', 'Union Berlin -', 'Borussia Dortmund', '- : - (- : -)']\n",
      "['Samstag, 09.03.2024* Anstoß um 13:30 Uhr*', 'SV Werder -', 'Borussia Dortmund', '- : - (- : -)']\n",
      "['Samstag, 16.03.2024* Anstoß um 13:30 Uhr*', 'Borussia Dortmund -', 'Eintracht Frankfurt', '- : - (- : -)']\n",
      "['Samstag, 30.03.2024* Anstoß um 13:30 Uhr*', 'Bayern München -', 'Borussia Dortmund', '- : - (- : -)']\n",
      "['Samstag, 06.04.2024* Anstoß um 13:30 Uhr*', 'Borussia Dortmund -', 'VfB Stuttgart', '- : - (- : -)']\n",
      "['Samstag, 13.04.2024* Anstoß um 13:30 Uhr*', \"Borussia M'gladbach -\", 'Borussia Dortmund', '- : - (- : -)']\n",
      "['Samstag, 20.04.2024* Anstoß um 13:30 Uhr*', 'Borussia Dortmund -', 'Bayer Leverkusen', '- : - (- : -)']\n",
      "['Samstag, 27.04.2024* Anstoß um 13:30 Uhr*', 'Rasenballsport Leipzig -', 'Borussia Dortmund', '- : - (- : -)']\n",
      "['Samstag, 04.05.2024* Anstoß um 13:30 Uhr*', 'Borussia Dortmund -', 'FC Augsburg', '- : - (- : -)']\n",
      "['Samstag, 11.05.2024* Anstoß um 13:30 Uhr*', 'Mainz 05 -', 'Borussia Dortmund', '- : - (- : -)']\n",
      "['Samstag, 18.05.2024 Anstoß um 15:30 Uhr', 'Borussia Dortmund -', 'Darmstadt 98', '- : - (- : -)']\n"
     ]
    }
   ],
   "source": [
    "import requests\n",
    "from bs4 import BeautifulSoup\n",
    "\n",
    "\n",
    "url = \"https://www.bvb.de/Spiele/Alle-Spiele\"\n",
    "soup = BeautifulSoup(requests.get(url).content, \"html.parser\")\n",
    "\n",
    "table = soup.select(\"table.statistics\")\n",
    "\n",
    "for row in soup.select(\"tr:has(td)\"):\n",
    "    tds = [td.get_text(strip=True, separator=\" \") for td in row.select(\"td\")]\n",
    "    if len(tds) > 2:\n",
    "        team1, team2 = tds[1], tds[2]\n",
    "        #print(f\"{team1.strip(' -'):<30} {team2:<30}\")\n",
    "        print(tds)"
   ]
  }
 ],
 "metadata": {
  "kernelspec": {
   "display_name": "lewagon",
   "language": "python",
   "name": "python3"
  },
  "language_info": {
   "codemirror_mode": {
    "name": "ipython",
    "version": 3
   },
   "file_extension": ".py",
   "mimetype": "text/x-python",
   "name": "python",
   "nbconvert_exporter": "python",
   "pygments_lexer": "ipython3",
   "version": "3.7.7"
  },
  "orig_nbformat": 4
 },
 "nbformat": 4,
 "nbformat_minor": 2
}
